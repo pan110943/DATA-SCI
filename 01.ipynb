{
  "nbformat": 4,
  "nbformat_minor": 0,
  "metadata": {
    "colab": {
      "name": "01.ipynb",
      "provenance": [],
      "authorship_tag": "ABX9TyPU7SQC/yu52vkOe8NFbLVq",
      "include_colab_link": true
    },
    "kernelspec": {
      "name": "python3",
      "display_name": "Python 3"
    }
  },
  "cells": [
    {
      "cell_type": "markdown",
      "metadata": {
        "id": "view-in-github",
        "colab_type": "text"
      },
      "source": [
        "<a href=\"https://colab.research.google.com/github/pan110943/DATA-SCI/blob/main/01.ipynb\" target=\"_parent\"><img src=\"https://colab.research.google.com/assets/colab-badge.svg\" alt=\"Open In Colab\"/></a>"
      ]
    },
    {
      "cell_type": "code",
      "metadata": {
        "id": "E9UvM21ojwMF"
      },
      "source": [
        "namelist = ['win','tao','arm','met','pint','wan','worachai','bee','wasunee']\n",
        "countname = 0\n",
        "for name in namelist:\n",
        "  print(name)\n",
        "  nameinitial = name[0]\n",
        "  print(nameinitial)\n",
        "  if nameinitial == 'w':\n",
        "    #print('name initial is \"w\"')\n",
        "    countname = countname + 1\n",
        "    #print('countname has been increase')\n",
        "    print(countname)\n",
        "    print(name)\n",
        "  input()\n",
        "  print(countname)"
      ],
      "execution_count": null,
      "outputs": []
    },
    {
      "cell_type": "code",
      "metadata": {
        "id": "s153byur-eb5",
        "outputId": "abf1d8c6-3ec3-466a-ca2d-65b47e196913",
        "colab": {
          "base_uri": "https://localhost:8080/",
          "height": 50
        }
      },
      "source": [
        "def getmeanfromlist(numlist):\n",
        "  totalsum = 0\n",
        "  totalnum = 0\n",
        "  for num in numlist:\n",
        "    totalsum = totalsum + num\n",
        "    totalnum = totalnum + 1\n",
        "  print(\"All Point\",totalsum)\n",
        "  meanlist = totalsum/totalnum\n",
        "  print(\"Grade\",meanlist)\n",
        "  return\n",
        "\n",
        "numlist = [3,3.5,2,3.5,2,4]\n",
        "getmeanfromlist(numlist)"
      ],
      "execution_count": null,
      "outputs": [
        {
          "output_type": "stream",
          "text": [
            "All Point 18.0\n",
            "Grade 3.0\n"
          ],
          "name": "stdout"
        }
      ]
    },
    {
      "cell_type": "code",
      "metadata": {
        "id": "qxi8lyhbBcqF"
      },
      "source": [
        "def guessmynumber():\n",
        "  mynum = 12\n",
        "  output = ''\n",
        "  while output != 'Correct!!':\n",
        "    print('Please insert you guess.')\n",
        "    numguess = int(input())\n",
        "    if numguess == mynum:\n",
        "      output = 'Correct!!'\n",
        "    else:\n",
        "      if numguess < mynum:\n",
        "        output = 'You guess is Smaller.'\n",
        "      else:\n",
        "        output = 'You guess is larger.'\n",
        "    print(output)\n",
        "    print('\\n')\n",
        "  return output"
      ],
      "execution_count": null,
      "outputs": []
    },
    {
      "cell_type": "code",
      "metadata": {
        "id": "6jySa2vND9Tm",
        "outputId": "c792cc48-de94-4f13-c73e-527f67726d7c",
        "colab": {
          "base_uri": "https://localhost:8080/",
          "height": 126
        }
      },
      "source": [
        "guessmynumber()"
      ],
      "execution_count": null,
      "outputs": [
        {
          "output_type": "stream",
          "text": [
            "Please insert you guess.\n",
            "12\n",
            "Correct!!\n",
            "\n",
            "\n"
          ],
          "name": "stdout"
        },
        {
          "output_type": "execute_result",
          "data": {
            "application/vnd.google.colaboratory.intrinsic+json": {
              "type": "string"
            },
            "text/plain": [
              "'Correct!!'"
            ]
          },
          "metadata": {
            "tags": []
          },
          "execution_count": 55
        }
      ]
    },
    {
      "cell_type": "code",
      "metadata": {
        "id": "PCOBhHIIIjuV",
        "outputId": "76c5a013-ddb6-48f7-bd32-4edae8e35624",
        "colab": {
          "base_uri": "https://localhost:8080/",
          "height": 34
        }
      },
      "source": [
        "url = 'https://api-customer.thaichana.com/shop/0001/S0000068015'\n",
        "import requests\n",
        "response = requests.get(url)\n",
        "response"
      ],
      "execution_count": null,
      "outputs": [
        {
          "output_type": "execute_result",
          "data": {
            "text/plain": [
              "<Response [403]>"
            ]
          },
          "metadata": {
            "tags": []
          },
          "execution_count": 1
        }
      ]
    },
    {
      "cell_type": "code",
      "metadata": {
        "id": "9eT48q2yLq_x",
        "outputId": "49212e2a-f087-41a4-9d07-52581835d797",
        "colab": {
          "base_uri": "https://localhost:8080/",
          "height": 35
        }
      },
      "source": [
        "print(requests.__version__)"
      ],
      "execution_count": null,
      "outputs": [
        {
          "output_type": "stream",
          "text": [
            "2.23.0\n"
          ],
          "name": "stdout"
        }
      ]
    },
    {
      "cell_type": "markdown",
      "metadata": {
        "id": "i9gigNA6SYF_"
      },
      "source": [
        "เกิดอะไรขึ้ย???\n"
      ]
    },
    {
      "cell_type": "code",
      "metadata": {
        "id": "4YYHs0tzSw-o",
        "outputId": "93c6c07c-f825-4c66-bc19-c9427062f40b",
        "colab": {
          "base_uri": "https://localhost:8080/",
          "height": 358
        }
      },
      "source": [
        "sid = '0000068015'\n",
        "baseurl = 'https://api-customer.thaichana.com/shop/0001/S'\n",
        "url = baseurl + sid\n",
        "output = requests.get(url).json()\n",
        "print(url)"
      ],
      "execution_count": null,
      "outputs": [
        {
          "output_type": "error",
          "ename": "JSONDecodeError",
          "evalue": "ignored",
          "traceback": [
            "\u001b[0;31m---------------------------------------------------------------------------\u001b[0m",
            "\u001b[0;31mJSONDecodeError\u001b[0m                           Traceback (most recent call last)",
            "\u001b[0;32m<ipython-input-16-a110d80155a1>\u001b[0m in \u001b[0;36m<module>\u001b[0;34m()\u001b[0m\n\u001b[1;32m      2\u001b[0m \u001b[0mbaseurl\u001b[0m \u001b[0;34m=\u001b[0m \u001b[0;34m'https://api-customer.thaichana.com/shop/0001/S'\u001b[0m\u001b[0;34m\u001b[0m\u001b[0;34m\u001b[0m\u001b[0m\n\u001b[1;32m      3\u001b[0m \u001b[0murl\u001b[0m \u001b[0;34m=\u001b[0m \u001b[0mbaseurl\u001b[0m \u001b[0;34m+\u001b[0m \u001b[0msid\u001b[0m\u001b[0;34m\u001b[0m\u001b[0;34m\u001b[0m\u001b[0m\n\u001b[0;32m----> 4\u001b[0;31m \u001b[0moutput\u001b[0m \u001b[0;34m=\u001b[0m \u001b[0mrequests\u001b[0m\u001b[0;34m.\u001b[0m\u001b[0mget\u001b[0m\u001b[0;34m(\u001b[0m\u001b[0murl\u001b[0m\u001b[0;34m)\u001b[0m\u001b[0;34m.\u001b[0m\u001b[0mjson\u001b[0m\u001b[0;34m(\u001b[0m\u001b[0;34m)\u001b[0m\u001b[0;34m\u001b[0m\u001b[0;34m\u001b[0m\u001b[0m\n\u001b[0m\u001b[1;32m      5\u001b[0m \u001b[0mprint\u001b[0m\u001b[0;34m(\u001b[0m\u001b[0murl\u001b[0m\u001b[0;34m)\u001b[0m\u001b[0;34m\u001b[0m\u001b[0;34m\u001b[0m\u001b[0m\n",
            "\u001b[0;32m/usr/local/lib/python3.6/dist-packages/requests/models.py\u001b[0m in \u001b[0;36mjson\u001b[0;34m(self, **kwargs)\u001b[0m\n\u001b[1;32m    896\u001b[0m                     \u001b[0;31m# used.\u001b[0m\u001b[0;34m\u001b[0m\u001b[0;34m\u001b[0m\u001b[0;34m\u001b[0m\u001b[0m\n\u001b[1;32m    897\u001b[0m                     \u001b[0;32mpass\u001b[0m\u001b[0;34m\u001b[0m\u001b[0;34m\u001b[0m\u001b[0m\n\u001b[0;32m--> 898\u001b[0;31m         \u001b[0;32mreturn\u001b[0m \u001b[0mcomplexjson\u001b[0m\u001b[0;34m.\u001b[0m\u001b[0mloads\u001b[0m\u001b[0;34m(\u001b[0m\u001b[0mself\u001b[0m\u001b[0;34m.\u001b[0m\u001b[0mtext\u001b[0m\u001b[0;34m,\u001b[0m \u001b[0;34m**\u001b[0m\u001b[0mkwargs\u001b[0m\u001b[0;34m)\u001b[0m\u001b[0;34m\u001b[0m\u001b[0;34m\u001b[0m\u001b[0m\n\u001b[0m\u001b[1;32m    899\u001b[0m \u001b[0;34m\u001b[0m\u001b[0m\n\u001b[1;32m    900\u001b[0m     \u001b[0;34m@\u001b[0m\u001b[0mproperty\u001b[0m\u001b[0;34m\u001b[0m\u001b[0;34m\u001b[0m\u001b[0m\n",
            "\u001b[0;32m/usr/lib/python3.6/json/__init__.py\u001b[0m in \u001b[0;36mloads\u001b[0;34m(s, encoding, cls, object_hook, parse_float, parse_int, parse_constant, object_pairs_hook, **kw)\u001b[0m\n\u001b[1;32m    352\u001b[0m             \u001b[0mparse_int\u001b[0m \u001b[0;32mis\u001b[0m \u001b[0;32mNone\u001b[0m \u001b[0;32mand\u001b[0m \u001b[0mparse_float\u001b[0m \u001b[0;32mis\u001b[0m \u001b[0;32mNone\u001b[0m \u001b[0;32mand\u001b[0m\u001b[0;34m\u001b[0m\u001b[0;34m\u001b[0m\u001b[0m\n\u001b[1;32m    353\u001b[0m             parse_constant is None and object_pairs_hook is None and not kw):\n\u001b[0;32m--> 354\u001b[0;31m         \u001b[0;32mreturn\u001b[0m \u001b[0m_default_decoder\u001b[0m\u001b[0;34m.\u001b[0m\u001b[0mdecode\u001b[0m\u001b[0;34m(\u001b[0m\u001b[0ms\u001b[0m\u001b[0;34m)\u001b[0m\u001b[0;34m\u001b[0m\u001b[0;34m\u001b[0m\u001b[0m\n\u001b[0m\u001b[1;32m    355\u001b[0m     \u001b[0;32mif\u001b[0m \u001b[0mcls\u001b[0m \u001b[0;32mis\u001b[0m \u001b[0;32mNone\u001b[0m\u001b[0;34m:\u001b[0m\u001b[0;34m\u001b[0m\u001b[0;34m\u001b[0m\u001b[0m\n\u001b[1;32m    356\u001b[0m         \u001b[0mcls\u001b[0m \u001b[0;34m=\u001b[0m \u001b[0mJSONDecoder\u001b[0m\u001b[0;34m\u001b[0m\u001b[0;34m\u001b[0m\u001b[0m\n",
            "\u001b[0;32m/usr/lib/python3.6/json/decoder.py\u001b[0m in \u001b[0;36mdecode\u001b[0;34m(self, s, _w)\u001b[0m\n\u001b[1;32m    337\u001b[0m \u001b[0;34m\u001b[0m\u001b[0m\n\u001b[1;32m    338\u001b[0m         \"\"\"\n\u001b[0;32m--> 339\u001b[0;31m         \u001b[0mobj\u001b[0m\u001b[0;34m,\u001b[0m \u001b[0mend\u001b[0m \u001b[0;34m=\u001b[0m \u001b[0mself\u001b[0m\u001b[0;34m.\u001b[0m\u001b[0mraw_decode\u001b[0m\u001b[0;34m(\u001b[0m\u001b[0ms\u001b[0m\u001b[0;34m,\u001b[0m \u001b[0midx\u001b[0m\u001b[0;34m=\u001b[0m\u001b[0m_w\u001b[0m\u001b[0;34m(\u001b[0m\u001b[0ms\u001b[0m\u001b[0;34m,\u001b[0m \u001b[0;36m0\u001b[0m\u001b[0;34m)\u001b[0m\u001b[0;34m.\u001b[0m\u001b[0mend\u001b[0m\u001b[0;34m(\u001b[0m\u001b[0;34m)\u001b[0m\u001b[0;34m)\u001b[0m\u001b[0;34m\u001b[0m\u001b[0;34m\u001b[0m\u001b[0m\n\u001b[0m\u001b[1;32m    340\u001b[0m         \u001b[0mend\u001b[0m \u001b[0;34m=\u001b[0m \u001b[0m_w\u001b[0m\u001b[0;34m(\u001b[0m\u001b[0ms\u001b[0m\u001b[0;34m,\u001b[0m \u001b[0mend\u001b[0m\u001b[0;34m)\u001b[0m\u001b[0;34m.\u001b[0m\u001b[0mend\u001b[0m\u001b[0;34m(\u001b[0m\u001b[0;34m)\u001b[0m\u001b[0;34m\u001b[0m\u001b[0;34m\u001b[0m\u001b[0m\n\u001b[1;32m    341\u001b[0m         \u001b[0;32mif\u001b[0m \u001b[0mend\u001b[0m \u001b[0;34m!=\u001b[0m \u001b[0mlen\u001b[0m\u001b[0;34m(\u001b[0m\u001b[0ms\u001b[0m\u001b[0;34m)\u001b[0m\u001b[0;34m:\u001b[0m\u001b[0;34m\u001b[0m\u001b[0;34m\u001b[0m\u001b[0m\n",
            "\u001b[0;32m/usr/lib/python3.6/json/decoder.py\u001b[0m in \u001b[0;36mraw_decode\u001b[0;34m(self, s, idx)\u001b[0m\n\u001b[1;32m    355\u001b[0m             \u001b[0mobj\u001b[0m\u001b[0;34m,\u001b[0m \u001b[0mend\u001b[0m \u001b[0;34m=\u001b[0m \u001b[0mself\u001b[0m\u001b[0;34m.\u001b[0m\u001b[0mscan_once\u001b[0m\u001b[0;34m(\u001b[0m\u001b[0ms\u001b[0m\u001b[0;34m,\u001b[0m \u001b[0midx\u001b[0m\u001b[0;34m)\u001b[0m\u001b[0;34m\u001b[0m\u001b[0;34m\u001b[0m\u001b[0m\n\u001b[1;32m    356\u001b[0m         \u001b[0;32mexcept\u001b[0m \u001b[0mStopIteration\u001b[0m \u001b[0;32mas\u001b[0m \u001b[0merr\u001b[0m\u001b[0;34m:\u001b[0m\u001b[0;34m\u001b[0m\u001b[0;34m\u001b[0m\u001b[0m\n\u001b[0;32m--> 357\u001b[0;31m             \u001b[0;32mraise\u001b[0m \u001b[0mJSONDecodeError\u001b[0m\u001b[0;34m(\u001b[0m\u001b[0;34m\"Expecting value\"\u001b[0m\u001b[0;34m,\u001b[0m \u001b[0ms\u001b[0m\u001b[0;34m,\u001b[0m \u001b[0merr\u001b[0m\u001b[0;34m.\u001b[0m\u001b[0mvalue\u001b[0m\u001b[0;34m)\u001b[0m \u001b[0;32mfrom\u001b[0m \u001b[0;32mNone\u001b[0m\u001b[0;34m\u001b[0m\u001b[0;34m\u001b[0m\u001b[0m\n\u001b[0m\u001b[1;32m    358\u001b[0m         \u001b[0;32mreturn\u001b[0m \u001b[0mobj\u001b[0m\u001b[0;34m,\u001b[0m \u001b[0mend\u001b[0m\u001b[0;34m\u001b[0m\u001b[0;34m\u001b[0m\u001b[0m\n",
            "\u001b[0;31mJSONDecodeError\u001b[0m: Expecting value: line 1 column 1 (char 0)"
          ]
        }
      ]
    },
    {
      "cell_type": "code",
      "metadata": {
        "id": "XI1V4ka9FivP"
      },
      "source": [
        "def getthaichanadata():\n",
        "  baseurl = 'https://api-customer.thaichana.com/shop/0001/S'\n",
        "  #datashop = []\n",
        "  for i in list(range(1,100)):\n",
        "    sid = str(i)\n",
        "    numzero = 10 - len(sid)\n",
        "    zerostring = '0'*numzero\n",
        "    sid = zerostring + sid\n",
        "    url = baseurl + sid\n",
        "    print(url)\n",
        "    #output = requests.get(url).json()\n",
        "    #datashop.append(output)\n",
        "  #return datashop\n",
        "  return "
      ],
      "execution_count": null,
      "outputs": []
    },
    {
      "cell_type": "code",
      "metadata": {
        "id": "yZTi8nX7I9Um",
        "outputId": "933d9505-8adc-499b-c342-5f673ff94600",
        "colab": {
          "base_uri": "https://localhost:8080/",
          "height": 1000
        }
      },
      "source": [
        "a=getthaichanadata()\n",
        "a"
      ],
      "execution_count": null,
      "outputs": [
        {
          "output_type": "stream",
          "text": [
            "https://api-customer.thaichana.com/shop/0001/S0000000001\n",
            "https://api-customer.thaichana.com/shop/0001/S0000000002\n",
            "https://api-customer.thaichana.com/shop/0001/S0000000003\n",
            "https://api-customer.thaichana.com/shop/0001/S0000000004\n",
            "https://api-customer.thaichana.com/shop/0001/S0000000005\n",
            "https://api-customer.thaichana.com/shop/0001/S0000000006\n",
            "https://api-customer.thaichana.com/shop/0001/S0000000007\n",
            "https://api-customer.thaichana.com/shop/0001/S0000000008\n",
            "https://api-customer.thaichana.com/shop/0001/S0000000009\n",
            "https://api-customer.thaichana.com/shop/0001/S0000000010\n",
            "https://api-customer.thaichana.com/shop/0001/S0000000011\n",
            "https://api-customer.thaichana.com/shop/0001/S0000000012\n",
            "https://api-customer.thaichana.com/shop/0001/S0000000013\n",
            "https://api-customer.thaichana.com/shop/0001/S0000000014\n",
            "https://api-customer.thaichana.com/shop/0001/S0000000015\n",
            "https://api-customer.thaichana.com/shop/0001/S0000000016\n",
            "https://api-customer.thaichana.com/shop/0001/S0000000017\n",
            "https://api-customer.thaichana.com/shop/0001/S0000000018\n",
            "https://api-customer.thaichana.com/shop/0001/S0000000019\n",
            "https://api-customer.thaichana.com/shop/0001/S0000000020\n",
            "https://api-customer.thaichana.com/shop/0001/S0000000021\n",
            "https://api-customer.thaichana.com/shop/0001/S0000000022\n",
            "https://api-customer.thaichana.com/shop/0001/S0000000023\n",
            "https://api-customer.thaichana.com/shop/0001/S0000000024\n",
            "https://api-customer.thaichana.com/shop/0001/S0000000025\n",
            "https://api-customer.thaichana.com/shop/0001/S0000000026\n",
            "https://api-customer.thaichana.com/shop/0001/S0000000027\n",
            "https://api-customer.thaichana.com/shop/0001/S0000000028\n",
            "https://api-customer.thaichana.com/shop/0001/S0000000029\n",
            "https://api-customer.thaichana.com/shop/0001/S0000000030\n",
            "https://api-customer.thaichana.com/shop/0001/S0000000031\n",
            "https://api-customer.thaichana.com/shop/0001/S0000000032\n",
            "https://api-customer.thaichana.com/shop/0001/S0000000033\n",
            "https://api-customer.thaichana.com/shop/0001/S0000000034\n",
            "https://api-customer.thaichana.com/shop/0001/S0000000035\n",
            "https://api-customer.thaichana.com/shop/0001/S0000000036\n",
            "https://api-customer.thaichana.com/shop/0001/S0000000037\n",
            "https://api-customer.thaichana.com/shop/0001/S0000000038\n",
            "https://api-customer.thaichana.com/shop/0001/S0000000039\n",
            "https://api-customer.thaichana.com/shop/0001/S0000000040\n",
            "https://api-customer.thaichana.com/shop/0001/S0000000041\n",
            "https://api-customer.thaichana.com/shop/0001/S0000000042\n",
            "https://api-customer.thaichana.com/shop/0001/S0000000043\n",
            "https://api-customer.thaichana.com/shop/0001/S0000000044\n",
            "https://api-customer.thaichana.com/shop/0001/S0000000045\n",
            "https://api-customer.thaichana.com/shop/0001/S0000000046\n",
            "https://api-customer.thaichana.com/shop/0001/S0000000047\n",
            "https://api-customer.thaichana.com/shop/0001/S0000000048\n",
            "https://api-customer.thaichana.com/shop/0001/S0000000049\n",
            "https://api-customer.thaichana.com/shop/0001/S0000000050\n",
            "https://api-customer.thaichana.com/shop/0001/S0000000051\n",
            "https://api-customer.thaichana.com/shop/0001/S0000000052\n",
            "https://api-customer.thaichana.com/shop/0001/S0000000053\n",
            "https://api-customer.thaichana.com/shop/0001/S0000000054\n",
            "https://api-customer.thaichana.com/shop/0001/S0000000055\n",
            "https://api-customer.thaichana.com/shop/0001/S0000000056\n",
            "https://api-customer.thaichana.com/shop/0001/S0000000057\n",
            "https://api-customer.thaichana.com/shop/0001/S0000000058\n",
            "https://api-customer.thaichana.com/shop/0001/S0000000059\n",
            "https://api-customer.thaichana.com/shop/0001/S0000000060\n",
            "https://api-customer.thaichana.com/shop/0001/S0000000061\n",
            "https://api-customer.thaichana.com/shop/0001/S0000000062\n",
            "https://api-customer.thaichana.com/shop/0001/S0000000063\n",
            "https://api-customer.thaichana.com/shop/0001/S0000000064\n",
            "https://api-customer.thaichana.com/shop/0001/S0000000065\n",
            "https://api-customer.thaichana.com/shop/0001/S0000000066\n",
            "https://api-customer.thaichana.com/shop/0001/S0000000067\n",
            "https://api-customer.thaichana.com/shop/0001/S0000000068\n",
            "https://api-customer.thaichana.com/shop/0001/S0000000069\n",
            "https://api-customer.thaichana.com/shop/0001/S0000000070\n",
            "https://api-customer.thaichana.com/shop/0001/S0000000071\n",
            "https://api-customer.thaichana.com/shop/0001/S0000000072\n",
            "https://api-customer.thaichana.com/shop/0001/S0000000073\n",
            "https://api-customer.thaichana.com/shop/0001/S0000000074\n",
            "https://api-customer.thaichana.com/shop/0001/S0000000075\n",
            "https://api-customer.thaichana.com/shop/0001/S0000000076\n",
            "https://api-customer.thaichana.com/shop/0001/S0000000077\n",
            "https://api-customer.thaichana.com/shop/0001/S0000000078\n",
            "https://api-customer.thaichana.com/shop/0001/S0000000079\n",
            "https://api-customer.thaichana.com/shop/0001/S0000000080\n",
            "https://api-customer.thaichana.com/shop/0001/S0000000081\n",
            "https://api-customer.thaichana.com/shop/0001/S0000000082\n",
            "https://api-customer.thaichana.com/shop/0001/S0000000083\n",
            "https://api-customer.thaichana.com/shop/0001/S0000000084\n",
            "https://api-customer.thaichana.com/shop/0001/S0000000085\n",
            "https://api-customer.thaichana.com/shop/0001/S0000000086\n",
            "https://api-customer.thaichana.com/shop/0001/S0000000087\n",
            "https://api-customer.thaichana.com/shop/0001/S0000000088\n",
            "https://api-customer.thaichana.com/shop/0001/S0000000089\n",
            "https://api-customer.thaichana.com/shop/0001/S0000000090\n",
            "https://api-customer.thaichana.com/shop/0001/S0000000091\n",
            "https://api-customer.thaichana.com/shop/0001/S0000000092\n",
            "https://api-customer.thaichana.com/shop/0001/S0000000093\n",
            "https://api-customer.thaichana.com/shop/0001/S0000000094\n",
            "https://api-customer.thaichana.com/shop/0001/S0000000095\n",
            "https://api-customer.thaichana.com/shop/0001/S0000000096\n",
            "https://api-customer.thaichana.com/shop/0001/S0000000097\n",
            "https://api-customer.thaichana.com/shop/0001/S0000000098\n",
            "https://api-customer.thaichana.com/shop/0001/S0000000099\n"
          ],
          "name": "stdout"
        }
      ]
    },
    {
      "cell_type": "code",
      "metadata": {
        "id": "XFja5v4_K9FX",
        "outputId": "288ee99a-63dd-4dfa-d846-33a18877540d",
        "colab": {
          "base_uri": "https://localhost:8080/",
          "height": 225
        }
      },
      "source": [
        "y = 'hello'\n",
        "x = 'world'\n",
        "x = str(1)\n",
        "x = 'john'\n",
        "z = y + 3\n",
        "print(z)"
      ],
      "execution_count": null,
      "outputs": [
        {
          "output_type": "error",
          "ename": "TypeError",
          "evalue": "ignored",
          "traceback": [
            "\u001b[0;31m---------------------------------------------------------------------------\u001b[0m",
            "\u001b[0;31mTypeError\u001b[0m                                 Traceback (most recent call last)",
            "\u001b[0;32m<ipython-input-56-9d7c14c13ae0>\u001b[0m in \u001b[0;36m<module>\u001b[0;34m()\u001b[0m\n\u001b[1;32m      3\u001b[0m \u001b[0mx\u001b[0m \u001b[0;34m=\u001b[0m \u001b[0mstr\u001b[0m\u001b[0;34m(\u001b[0m\u001b[0;36m1\u001b[0m\u001b[0;34m)\u001b[0m\u001b[0;34m\u001b[0m\u001b[0;34m\u001b[0m\u001b[0m\n\u001b[1;32m      4\u001b[0m \u001b[0mx\u001b[0m \u001b[0;34m=\u001b[0m \u001b[0;34m'john'\u001b[0m\u001b[0;34m\u001b[0m\u001b[0;34m\u001b[0m\u001b[0m\n\u001b[0;32m----> 5\u001b[0;31m \u001b[0mz\u001b[0m \u001b[0;34m=\u001b[0m \u001b[0my\u001b[0m \u001b[0;34m+\u001b[0m \u001b[0;36m3\u001b[0m\u001b[0;34m\u001b[0m\u001b[0;34m\u001b[0m\u001b[0m\n\u001b[0m\u001b[1;32m      6\u001b[0m \u001b[0mprint\u001b[0m\u001b[0;34m(\u001b[0m\u001b[0mz\u001b[0m\u001b[0;34m)\u001b[0m\u001b[0;34m\u001b[0m\u001b[0;34m\u001b[0m\u001b[0m\n",
            "\u001b[0;31mTypeError\u001b[0m: must be str, not int"
          ]
        }
      ]
    },
    {
      "cell_type": "code",
      "metadata": {
        "id": "43Q0iRWGo4sN"
      },
      "source": [
        "def hellofriend():\n",
        "  namefriend = input('Pls insert your name.\\n')\n",
        "  output = 'Hello '+ namefriend + ' ^-^'\n",
        "  return output\n"
      ],
      "execution_count": null,
      "outputs": []
    },
    {
      "cell_type": "code",
      "metadata": {
        "id": "HCNiVK_cTkwm",
        "outputId": "fffa6f8f-e087-42aa-e98c-9e7a943115ca",
        "colab": {
          "base_uri": "https://localhost:8080/",
          "height": 69
        }
      },
      "source": [
        "hellofriend()"
      ],
      "execution_count": null,
      "outputs": [
        {
          "output_type": "stream",
          "text": [
            "Pls insert your name.\n",
            "pan\n"
          ],
          "name": "stdout"
        },
        {
          "output_type": "execute_result",
          "data": {
            "application/vnd.google.colaboratory.intrinsic+json": {
              "type": "string"
            },
            "text/plain": [
              "'Hello pan ^-^'"
            ]
          },
          "metadata": {
            "tags": []
          },
          "execution_count": 8
        }
      ]
    },
    {
      "cell_type": "code",
      "metadata": {
        "id": "sgX1PL-IT3ya"
      },
      "source": [
        "def addone(x):\n",
        "  return x+1"
      ],
      "execution_count": null,
      "outputs": []
    },
    {
      "cell_type": "code",
      "metadata": {
        "id": "dlxcsQ6YT_6b",
        "outputId": "a6f4c27b-7b78-49d2-9074-252e5eb9f6b4",
        "colab": {
          "base_uri": "https://localhost:8080/"
        }
      },
      "source": [
        "addone(20)"
      ],
      "execution_count": null,
      "outputs": [
        {
          "output_type": "execute_result",
          "data": {
            "text/plain": [
              "21"
            ]
          },
          "metadata": {
            "tags": []
          },
          "execution_count": 10
        }
      ]
    },
    {
      "cell_type": "code",
      "metadata": {
        "id": "WfvaYgPFUDAg"
      },
      "source": [
        "def pythagoras(a,b):\n",
        "  return (a**2 + b**2)**(1/2)\n"
      ],
      "execution_count": null,
      "outputs": []
    },
    {
      "cell_type": "code",
      "metadata": {
        "id": "g8zrze6AUV0k",
        "outputId": "e8b41d44-453d-4de9-d704-ea24895eea0e",
        "colab": {
          "base_uri": "https://localhost:8080/"
        }
      },
      "source": [
        "pythagoras(3,4)"
      ],
      "execution_count": null,
      "outputs": [
        {
          "output_type": "execute_result",
          "data": {
            "text/plain": [
              "5.0"
            ]
          },
          "metadata": {
            "tags": []
          },
          "execution_count": 12
        }
      ]
    },
    {
      "cell_type": "code",
      "metadata": {
        "id": "11cyBsoHUbOq",
        "outputId": "8eabf5dc-8e38-4c9d-c097-ec57f2eb0bfa",
        "colab": {
          "base_uri": "https://localhost:8080/",
          "height": 35
        }
      },
      "source": [
        "#list\n",
        "x = ['hello',hellofriend,3,4,5,6]\n",
        "y = [x]\n",
        "z = ['hello',x,y]\n",
        "#x[2:]\n",
        "z[2][0][0]"
      ],
      "execution_count": null,
      "outputs": [
        {
          "output_type": "execute_result",
          "data": {
            "application/vnd.google.colaboratory.intrinsic+json": {
              "type": "string"
            },
            "text/plain": [
              "'hello'"
            ]
          },
          "metadata": {
            "tags": []
          },
          "execution_count": 13
        }
      ]
    },
    {
      "cell_type": "code",
      "metadata": {
        "id": "cqiqYQwRVHBD"
      },
      "source": [
        "#a = [1,'hello','hi',2]\n",
        "b = ['peter','pan']\n",
        "a = [1,'hello','hi',2,b,[1,2],print,len,{'win':'hello'}]"
      ],
      "execution_count": null,
      "outputs": []
    },
    {
      "cell_type": "code",
      "metadata": {
        "id": "Mjr_z78SWMEh",
        "outputId": "07482ed6-b8ee-446a-e0a0-2cf7ba5cd098",
        "colab": {
          "base_uri": "https://localhost:8080/"
        }
      },
      "source": [
        "x = 5\n",
        "y = 6\n",
        "print(x == y)\n",
        "print(x != y)\n",
        "print(x < y)\n",
        "print(x <= y)\n",
        "print(x > y)\n",
        "print(x >= y)"
      ],
      "execution_count": null,
      "outputs": [
        {
          "output_type": "stream",
          "text": [
            "False\n",
            "True\n",
            "True\n",
            "True\n",
            "False\n",
            "False\n"
          ],
          "name": "stdout"
        }
      ]
    },
    {
      "cell_type": "code",
      "metadata": {
        "id": "4m3dQlJqWdsd",
        "outputId": "2c0f389f-41c8-4f60-aec4-9e073ca6492c",
        "colab": {
          "base_uri": "https://localhost:8080/"
        }
      },
      "source": [
        "x = [str(1),2,3,4,5]\n",
        "print(1 in x)\n",
        "print('1' in x)\n",
        "print(int(1) in x)\n",
        "print(len(x)<=10)\n",
        "print(len(x)>=10)\n",
        "print(len(x)<=100)\n",
        "print(len(x)>=100)"
      ],
      "execution_count": null,
      "outputs": [
        {
          "output_type": "stream",
          "text": [
            "False\n",
            "True\n",
            "False\n",
            "True\n",
            "False\n",
            "True\n",
            "False\n"
          ],
          "name": "stdout"
        }
      ]
    },
    {
      "cell_type": "code",
      "metadata": {
        "id": "dLahhRQ_Xn7v",
        "outputId": "808431b2-ae48-46d1-c781-88e94ba799af",
        "colab": {
          "base_uri": "https://localhost:8080/"
        }
      },
      "source": [
        "a = [1,2,3,4,5]\n",
        "print(a[-2:])\n",
        "print(a[0:3])\n",
        "print(a[3:])\n",
        "print(a[:3])"
      ],
      "execution_count": null,
      "outputs": [
        {
          "output_type": "stream",
          "text": [
            "[4, 5]\n",
            "[1, 2, 3]\n",
            "[4, 5]\n",
            "[1, 2, 3]\n"
          ],
          "name": "stdout"
        }
      ]
    },
    {
      "cell_type": "code",
      "metadata": {
        "id": "plpbpvreaNZz",
        "outputId": "aaaf270b-4d55-4a27-9805-c8b28589d604",
        "colab": {
          "base_uri": "https://localhost:8080/"
        }
      },
      "source": [
        "x = 'pannarak'\n",
        "y = 'pan'\n",
        "print(x[0:3] == y)\n",
        "print(x[-5:])"
      ],
      "execution_count": null,
      "outputs": [
        {
          "output_type": "stream",
          "text": [
            "True\n",
            "narak\n"
          ],
          "name": "stdout"
        }
      ]
    },
    {
      "cell_type": "code",
      "metadata": {
        "id": "BRtJ_G3naji_",
        "outputId": "f38a1a0e-0b06-41ee-c4b3-f17539582b7e",
        "colab": {
          "base_uri": "https://localhost:8080/"
        }
      },
      "source": [
        "def hellogoodbye(x,y):\n",
        "  if x<y:\n",
        "    print('hello')\n",
        "  else:\n",
        "    print('good bye')\n",
        "hellogoodbye(3,4)"
      ],
      "execution_count": null,
      "outputs": [
        {
          "output_type": "stream",
          "text": [
            "hello\n"
          ],
          "name": "stdout"
        }
      ]
    },
    {
      "cell_type": "markdown",
      "metadata": {
        "id": "WfTD4Q5mcsI1"
      },
      "source": [
        "for loop"
      ]
    },
    {
      "cell_type": "code",
      "metadata": {
        "id": "V5Y6eiWda9rv",
        "outputId": "f2514591-c2f2-4dc8-981f-ca639a3c6303",
        "colab": {
          "base_uri": "https://localhost:8080/"
        }
      },
      "source": [
        "import numpy as np\n",
        "numlist = np.random.randint(0,10,5)\n",
        "numlist"
      ],
      "execution_count": null,
      "outputs": [
        {
          "output_type": "execute_result",
          "data": {
            "text/plain": [
              "array([4, 9, 7, 0, 3])"
            ]
          },
          "metadata": {
            "tags": []
          },
          "execution_count": 37
        }
      ]
    },
    {
      "cell_type": "code",
      "metadata": {
        "id": "3WSCd2JJdEMj"
      },
      "source": [
        "def mysum(nlist):\n",
        "  mysum = 0\n",
        "  for i in nlist:\n",
        "    print(i)\n",
        "    #input()\n",
        "    mysum = mysum + i\n",
        "    print('My sum is ')\n",
        "    print(mysum)\n",
        "    input()\n",
        "  return mysum\n"
      ],
      "execution_count": null,
      "outputs": []
    },
    {
      "cell_type": "code",
      "metadata": {
        "id": "M4-Pw5MhdjpF",
        "outputId": "68ae600d-b0ba-4133-bd40-8140642c3ac9",
        "colab": {
          "base_uri": "https://localhost:8080/"
        }
      },
      "source": [
        "mysum(numlist)"
      ],
      "execution_count": null,
      "outputs": [
        {
          "output_type": "stream",
          "text": [
            "4\n",
            "My sum is \n",
            "4\n",
            "\n",
            "9\n",
            "My sum is \n",
            "13\n",
            "\n",
            "7\n",
            "My sum is \n",
            "20\n",
            "\n",
            "0\n",
            "My sum is \n",
            "20\n",
            "\n",
            "3\n",
            "My sum is \n",
            "23\n",
            "\n"
          ],
          "name": "stdout"
        },
        {
          "output_type": "execute_result",
          "data": {
            "text/plain": [
              "23"
            ]
          },
          "metadata": {
            "tags": []
          },
          "execution_count": 43
        }
      ]
    },
    {
      "cell_type": "markdown",
      "metadata": {
        "id": "EzJkaIT0ev0N"
      },
      "source": [
        "while loop\n"
      ]
    },
    {
      "cell_type": "code",
      "metadata": {
        "id": "ZpXGzFeCesNO",
        "outputId": "619ea1a5-2fde-412c-a6f3-b8135452dab0",
        "colab": {
          "base_uri": "https://localhost:8080/"
        }
      },
      "source": [
        "i = 0\n",
        "while i < 10:\n",
        "  print(i)\n",
        "  i = i + 1\n",
        "  input()"
      ],
      "execution_count": null,
      "outputs": [
        {
          "output_type": "stream",
          "text": [
            "0\n",
            "\n",
            "1\n",
            "\n",
            "2\n",
            "\n",
            "3\n",
            "\n",
            "4\n",
            "\n",
            "5\n",
            "\n",
            "6\n",
            "\n",
            "7\n",
            "\n",
            "8\n",
            "\n",
            "9\n",
            "\n"
          ],
          "name": "stdout"
        }
      ]
    },
    {
      "cell_type": "code",
      "metadata": {
        "id": "JA6C-7HYfBqw",
        "outputId": "390c7d4f-54f7-42ab-91f7-f8541eee2016",
        "colab": {
          "base_uri": "https://localhost:8080/"
        }
      },
      "source": [
        "numlist"
      ],
      "execution_count": null,
      "outputs": [
        {
          "output_type": "execute_result",
          "data": {
            "text/plain": [
              "array([4, 9, 7, 0, 3])"
            ]
          },
          "metadata": {
            "tags": []
          },
          "execution_count": 45
        }
      ]
    },
    {
      "cell_type": "code",
      "metadata": {
        "id": "-wc7m9ZSfH3P",
        "outputId": "10c411f7-e8a5-43c4-e2a6-4cbe67217052",
        "colab": {
          "base_uri": "https://localhost:8080/"
        }
      },
      "source": [
        "i = 0\n",
        "totalsum = 0\n",
        "while i<len(numlist):\n",
        "  num = numlist[i]\n",
        "  print(i)\n",
        "  print(num)\n",
        "  totalsum = totalsum + num\n",
        "  i = i + 1\n",
        "  input()\n",
        "totalsum\n"
      ],
      "execution_count": null,
      "outputs": [
        {
          "output_type": "stream",
          "text": [
            "0\n",
            "4\n",
            "\n",
            "1\n",
            "9\n",
            "\n",
            "2\n",
            "7\n",
            "\n",
            "3\n",
            "0\n",
            "\n",
            "4\n",
            "3\n",
            "\n"
          ],
          "name": "stdout"
        },
        {
          "output_type": "execute_result",
          "data": {
            "text/plain": [
              "23"
            ]
          },
          "metadata": {
            "tags": []
          },
          "execution_count": 46
        }
      ]
    },
    {
      "cell_type": "markdown",
      "metadata": {
        "id": "ZqP-7ogxhtZ0"
      },
      "source": [
        ""
      ]
    }
  ]
}